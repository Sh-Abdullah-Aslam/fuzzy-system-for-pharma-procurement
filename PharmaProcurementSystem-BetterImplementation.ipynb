{
 "cells": [
  {
   "cell_type": "markdown",
   "metadata": {},
   "source": [
    "# Importing libraries"
   ]
  },
  {
   "cell_type": "code",
   "execution_count": null,
   "metadata": {},
   "outputs": [],
   "source": [
    "import numpy as np\n",
    "import skfuzzy as fuzz\n",
    "import matplotlib.pyplot as plt\n",
    "from skfuzzy import control as ctrl\n",
    "%matplotlib inline"
   ]
  },
  {
   "cell_type": "markdown",
   "metadata": {},
   "source": [
    "# Input variables"
   ]
  },
  {
   "cell_type": "code",
   "execution_count": null,
   "metadata": {},
   "outputs": [],
   "source": [
    "stock = ctrl.Antecedent(np.arange(0, 11, 1), 'stock')\n",
    "budget = ctrl.Antecedent(np.arange(0, 11, 1), 'budget')\n",
    "demand = ctrl.Antecedent(np.arange(0, 11, 1), 'demand')"
   ]
  },
  {
   "cell_type": "markdown",
   "metadata": {},
   "source": [
    "## Stock"
   ]
  },
  {
   "cell_type": "code",
   "execution_count": null,
   "metadata": {},
   "outputs": [],
   "source": [
    "stock['low'] = fuzz.trimf(stock.universe, [0, 0, 3])\n",
    "stock['medium'] = fuzz.trimf(stock.universe, [2, 5, 8])\n",
    "stock['high'] = fuzz.trimf(stock.universe, [7, 10, 10])"
   ]
  },
  {
   "cell_type": "code",
   "execution_count": null,
   "metadata": {},
   "outputs": [],
   "source": [
    "stock.view()"
   ]
  },
  {
   "cell_type": "markdown",
   "metadata": {},
   "source": [
    "## Budget"
   ]
  },
  {
   "cell_type": "code",
   "execution_count": null,
   "metadata": {},
   "outputs": [],
   "source": [
    "budget['low'] = fuzz.sigmf(budget.universe, 2, -4)\n",
    "budget['medium'] = fuzz.gaussmf(budget.universe, 5, 1)\n",
    "budget['high'] = fuzz.sigmf(budget.universe, 8, 4)"
   ]
  },
  {
   "cell_type": "code",
   "execution_count": null,
   "metadata": {},
   "outputs": [],
   "source": [
    "budget.view()"
   ]
  },
  {
   "cell_type": "markdown",
   "metadata": {},
   "source": [
    "## Demand"
   ]
  },
  {
   "cell_type": "code",
   "execution_count": null,
   "metadata": {},
   "outputs": [],
   "source": [
    "demand['low'] = fuzz.trimf(demand.universe, [0, 0, 3])\n",
    "demand['medium'] = fuzz.trimf(demand.universe, [2, 5, 8])\n",
    "demand['high'] = fuzz.trimf(demand.universe, [7, 10, 10])"
   ]
  },
  {
   "cell_type": "code",
   "execution_count": null,
   "metadata": {},
   "outputs": [],
   "source": [
    "demand.view()"
   ]
  },
  {
   "cell_type": "markdown",
   "metadata": {},
   "source": [
    "# Output  variables"
   ]
  },
  {
   "cell_type": "code",
   "execution_count": null,
   "metadata": {},
   "outputs": [],
   "source": [
    "order = ctrl.Consequent(np.arange(0, 11), 'order')\n",
    "\n",
    "order['none'] = fuzz.trapmf(order.universe, [0, 0, 10, 10])\n",
    "#order['none'] = fuzz.trimf(order.universe, [0, 0, 2])\n",
    "order['some'] = fuzz.trimf(order.universe, [1, 3, 5])\n",
    "order['half'] = fuzz.trimf(order.universe, [4, 5, 6])\n",
    "order['more_than_half'] = fuzz.trimf(order.universe, [5, 7, 9])\n",
    "#order['all'] = fuzz.trimf(order.universe, [8, 10, 10])\n",
    "order['all'] = fuzz.trimf(order.universe, [0, 0.1, 0.2])"
   ]
  },
  {
   "cell_type": "code",
   "execution_count": null,
   "metadata": {},
   "outputs": [],
   "source": [
    "order.view()"
   ]
  },
  {
   "cell_type": "markdown",
   "metadata": {},
   "source": [
    "# Rule Base"
   ]
  },
  {
   "cell_type": "code",
   "execution_count": null,
   "metadata": {},
   "outputs": [],
   "source": [
    "rule_1 = ctrl.Rule(stock['low'] & demand['low'] & budget['low'], order['none'])\n",
    "rule_2 = ctrl.Rule(stock['low'] & demand['low'] & budget['medium'], order['some'])\n",
    "rule_3 = ctrl.Rule(stock['low'] & demand['low'] & budget['high'], order['half'])\n",
    "\n",
    "rule_4 = ctrl.Rule(stock['low'] & demand['medium'] & budget['low'], order['some'])\n",
    "rule_5 = ctrl.Rule(stock['low'] & demand['medium'] & budget['medium'], order['half'])\n",
    "rule_6 = ctrl.Rule(stock['low'] & demand['medium'] & budget['high'], order['more_than_half'])\n",
    "\n",
    "rule_7 = ctrl.Rule(stock['low'] & demand['high'] & budget['low'], order['some'])\n",
    "rule_8 = ctrl.Rule(stock['low'] & demand['high'] & budget['medium'], order['half'])\n",
    "rule_9 = ctrl.Rule(stock['low'] & demand['high'] & budget['high'], order['all'])\n",
    "\n",
    "rule_10 = ctrl.Rule(stock['medium'] & demand['low'] & budget['low'], order['none'])\n",
    "rule_11 = ctrl.Rule(stock['medium'] & demand['low'] & budget['medium'], order['none'])\n",
    "rule_12 = ctrl.Rule(stock['medium'] & demand['low'] & budget['high'], order['some'])\n",
    "\n",
    "rule_13 = ctrl.Rule(stock['medium'] & demand['medium'] & budget['low'], order['none'])\n",
    "rule_14 = ctrl.Rule(stock['medium'] & demand['medium'] & budget['medium'], order['some'])\n",
    "rule_15 = ctrl.Rule(stock['medium'] & demand['medium'] & budget['high'], order['more_than_half'])\n",
    "\n",
    "rule_16 = ctrl.Rule(stock['medium'] & demand['high'] & budget['low'], order['some'])\n",
    "rule_17 = ctrl.Rule(stock['medium'] & demand['high'] & budget['medium'], order['more_than_half'])\n",
    "rule_18 = ctrl.Rule(stock['medium'] & demand['high'] & budget['high'], order['all'])\n",
    "\n",
    "rule_19 = ctrl.Rule(stock['high'], order['none'])"
   ]
  },
  {
   "cell_type": "markdown",
   "metadata": {},
   "source": [
    "# Creating fuzzy logic controller"
   ]
  },
  {
   "cell_type": "code",
   "execution_count": null,
   "metadata": {},
   "outputs": [],
   "source": [
    "order_control = ctrl.ControlSystem([rule_1, rule_2, rule_3, rule_4, rule_5,\n",
    "                                    rule_6, rule_7, rule_8, rule_9, rule_10,\n",
    "                                    rule_11, rule_12, rule_13, rule_14, rule_15,\n",
    "                                    rule_16, rule_17, rule_18, rule_19])\n",
    "\n",
    "order_output = ctrl.ControlSystemSimulation(order_control)"
   ]
  },
  {
   "cell_type": "markdown",
   "metadata": {},
   "source": [
    "# Example executions"
   ]
  },
  {
   "cell_type": "markdown",
   "metadata": {},
   "source": [
    "## Example no 1"
   ]
  },
  {
   "cell_type": "markdown",
   "metadata": {},
   "source": [
    "### Taking user inputs for inferencing"
   ]
  },
  {
   "cell_type": "code",
   "execution_count": null,
   "metadata": {},
   "outputs": [],
   "source": [
    "order_output.input['stock'] = 4\n",
    "order_output.input['budget'] = 9.8\n",
    "order_output.input['demand'] = 9.4"
   ]
  },
  {
   "cell_type": "markdown",
   "metadata": {},
   "source": [
    "### Inferencing"
   ]
  },
  {
   "cell_type": "code",
   "execution_count": null,
   "metadata": {},
   "outputs": [],
   "source": [
    "order_output.compute()\n",
    "order.view(sim=order_output)\n",
    "print('Order has the value of: ', round(order_output.output['order'], 3))"
   ]
  },
  {
   "cell_type": "markdown",
   "metadata": {},
   "source": [
    "## Example no 2"
   ]
  },
  {
   "cell_type": "code",
   "execution_count": null,
   "metadata": {},
   "outputs": [],
   "source": [
    "order_output.input['stock'] = 1.2\n",
    "order_output.input['budget'] = 9.3\n",
    "order_output.input['demand'] = 6.4\n",
    "\n",
    "order_output.compute()\n",
    "\n",
    "order.view(sim=order_output)\n",
    "print('Order has the value of: ', round(order_output.output['order'], 3))"
   ]
  },
  {
   "cell_type": "markdown",
   "metadata": {},
   "source": [
    "## Example no 3"
   ]
  },
  {
   "cell_type": "code",
   "execution_count": null,
   "metadata": {},
   "outputs": [],
   "source": [
    "order_output.input['stock'] = 9.4\n",
    "order_output.input['budget'] = 2.3\n",
    "order_output.input['demand'] = 4.5\n",
    "\n",
    "order_output.compute()\n",
    "\n",
    "order.view(sim=order_output)\n",
    "print('Order has the value of: ', round(order_output.output['order'], 3))"
   ]
  },
  {
   "cell_type": "code",
   "execution_count": null,
   "metadata": {},
   "outputs": [],
   "source": []
  }
 ],
 "metadata": {
  "kernelspec": {
   "display_name": "Python 3",
   "language": "python",
   "name": "python3"
  },
  "language_info": {
   "codemirror_mode": {
    "name": "ipython",
    "version": 3
   },
   "file_extension": ".py",
   "mimetype": "text/x-python",
   "name": "python",
   "nbconvert_exporter": "python",
   "pygments_lexer": "ipython3",
   "version": "3.7.3"
  }
 },
 "nbformat": 4,
 "nbformat_minor": 2
}
